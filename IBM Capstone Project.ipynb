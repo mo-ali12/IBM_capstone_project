{
 "cells": [
  {
   "cell_type": "markdown",
   "metadata": {},
   "source": [
    "Importing Libraries"
   ]
  },
  {
   "cell_type": "code",
   "execution_count": 1,
   "metadata": {},
   "outputs": [
    {
     "name": "stdout",
     "output_type": "stream",
     "text": [
      "Libraries imported.\n"
     ]
    }
   ],
   "source": [
    "import pandas as pd\n",
    "import numpy as np\n",
    "pd.set_option('display.max_columns', None)\n",
    "pd.set_option('display.max_rows', None)\n",
    "import requests\n",
    "from bs4 import BeautifulSoup\n",
    "#!pip install geocoder\n",
    "import geocoder\n",
    "import os\n",
    "#!pip install folium\n",
    "import folium # map rendering library\n",
    "from geopy.geocoders import Nominatim # convert an address into latitude and longitude values\n",
    "# Matplotlib and associated plotting modules\n",
    "import matplotlib.pyplot as plt\n",
    "import matplotlib.cm as cm\n",
    "import matplotlib.colors as colors\n",
    "%matplotlib inline\n",
    "\n",
    "\n",
    "print('Libraries imported.')"
   ]
  },
  {
   "cell_type": "markdown",
   "metadata": {},
   "source": [
    "Defining the function to get the Longitude and Latitude"
   ]
  },
  {
   "cell_type": "code",
   "execution_count": 2,
   "metadata": {},
   "outputs": [],
   "source": [
    "def geo_location(address):\n",
    "    # get geo location of address\n",
    "    geolocator = Nominatim(user_agent=\"ny_explorer\")\n",
    "    location = geolocator.geocode(address)\n",
    "    latitude = location.latitude\n",
    "    longitude = location.longitude\n",
    "    return latitude,longitude"
   ]
  },
  {
   "cell_type": "markdown",
   "metadata": {},
   "source": [
    "We define a function to intract with FourSquare API and get top 100 venues within a radius of 1000 metres for a given latitude and longitude. Below function will return us the venue id , venue name and category."
   ]
  },
  {
   "cell_type": "code",
   "execution_count": 50,
   "metadata": {},
   "outputs": [],
   "source": [
    "def get_venues(lat,lng):\n",
    "    \n",
    "    #set variables\n",
    "    radius=1000\n",
    "    LIMIT=100\n",
    "    CLIENT_ID = '2Y4NM4W4ZXOWHPT1B5S5F4AO2BTRYIULFCUWVUFTQAWGGHPT' # your Foursquare ID\n",
    "    CLIENT_SECRET = 'OU4YHYXWZHD1EZRIVIRDOGIESCN2GNPTO51AR2RSE4FYDO1W'# your Foursquare Secret\n",
    "    VERSION = '20200702' # Foursquare API version\n",
    "    \n",
    "    #url to fetch data from foursquare api\n",
    "    url = 'https://api.foursquare.com/v2/venues/explore?&client_id={}&client_secret={}&v={}&ll={},{}&radius={}&limit={}'.format(\n",
    "            CLIENT_ID, \n",
    "            CLIENT_SECRET, \n",
    "            VERSION, \n",
    "            lat, \n",
    "            lng, \n",
    "            radius, \n",
    "            LIMIT)\n",
    "    \n",
    "    # get all the data\n",
    "    results = requests.get(url).json()\n",
    "    venue_data=results[\"response\"]['groups'][0]['items']\n",
    "    venue_details=[]\n",
    "    for row in venue_data:\n",
    "        try:\n",
    "            venue_id=row['venue']['id']\n",
    "            venue_name=row['venue']['name']\n",
    "            venue_category=row['venue']['categories'][0]['name']\n",
    "            venue_details.append([venue_id,venue_name,venue_category])\n",
    "        except KeyError:\n",
    "            pass\n",
    "        \n",
    "    column_names=['ID','Name','Category']\n",
    "    df = pd.DataFrame(venue_details,columns=column_names)\n",
    "    return df"
   ]
  },
  {
   "cell_type": "markdown",
   "metadata": {},
   "source": [
    "Now we will define a function to get venue details like like count , rating , tip counts for a given venue id. This will be used for ranking."
   ]
  },
  {
   "cell_type": "code",
   "execution_count": 51,
   "metadata": {},
   "outputs": [],
   "source": [
    "def get_venue_details(venue_id):\n",
    "        \n",
    "    CLIENT_ID = '2Y4NM4W4ZXOWHPT1B5S5F4AO2BTRYIULFCUWVUFTQAWGGHPT' # your Foursquare ID\n",
    "    CLIENT_SECRET = 'OU4YHYXWZHD1EZRIVIRDOGIESCN2GNPTO51AR2RSE4FYDO1W'# your Foursquare Secret\n",
    "    VERSION = '20200702' # Foursquare API version\n",
    "    \n",
    "    #url to fetch data from foursquare api\n",
    "    url = 'https://api.foursquare.com/v2/venues/{}?&client_id={}&client_secret={}&v={}'.format(\n",
    "            venue_id,\n",
    "            CLIENT_ID, \n",
    "            CLIENT_SECRET, \n",
    "            VERSION)\n",
    "    \n",
    "    # get all the data\n",
    "    results = requests.get(url).json()\n",
    "    venue_data=results['response']['venue']\n",
    "    venue_details=[]\n",
    "    try:\n",
    "        venue_id=venue_data['id']\n",
    "        venue_name=venue_data['name']\n",
    "        venue_likes=venue_data['likes']['count']\n",
    "        venue_rating=venue_data['rating']\n",
    "        venue_tips=venue_data['tips']['count']\n",
    "        venue_details.append([venue_id,venue_name,venue_likes,venue_rating,venue_tips])\n",
    "    except KeyError:\n",
    "        pass\n",
    "        \n",
    "    column_names=['ID','Name','Likes','Rating','Tips']\n",
    "    df = pd.DataFrame(venue_details,columns=column_names)\n",
    "    return df"
   ]
  },
  {
   "cell_type": "markdown",
   "metadata": {},
   "source": [
    "Now we define a funtion to get the new york city data such as Boroughs, Neighborhoods along with their latitude and longitude."
   ]
  },
  {
   "cell_type": "code",
   "execution_count": 52,
   "metadata": {},
   "outputs": [],
   "source": [
    "def get_new_york_data():\n",
    "    url='https://cocl.us/new_york_dataset'\n",
    "    resp=requests.get(url).json()\n",
    "    # all data is present in features label\n",
    "    features=resp['features']\n",
    "    \n",
    "    # define the dataframe columns\n",
    "    column_names = ['Borough', 'Neighborhood', 'Latitude', 'Longitude'] \n",
    "    # instantiate the dataframe\n",
    "    new_york_data = pd.DataFrame(columns=column_names)\n",
    "    \n",
    "    for data in features:\n",
    "        borough = data['properties']['borough'] \n",
    "        neighborhood_name = data['properties']['name']\n",
    "        \n",
    "        neighborhood_latlon = data['geometry']['coordinates']\n",
    "        neighborhood_lat = neighborhood_latlon[1]\n",
    "        neighborhood_lon = neighborhood_latlon[0]\n",
    "    \n",
    "        new_york_data = new_york_data.append({'Borough': borough,\n",
    "                                          'Neighborhood': neighborhood_name,\n",
    "                                          'Latitude': neighborhood_lat,\n",
    "                                          'Longitude': neighborhood_lon}, ignore_index=True)\n",
    "    \n",
    "    return new_york_data"
   ]
  },
  {
   "cell_type": "code",
   "execution_count": 53,
   "metadata": {},
   "outputs": [],
   "source": [
    "ny_data = get_new_york_data()"
   ]
  },
  {
   "cell_type": "code",
   "execution_count": 54,
   "metadata": {},
   "outputs": [
    {
     "data": {
      "text/html": [
       "<div>\n",
       "<style scoped>\n",
       "    .dataframe tbody tr th:only-of-type {\n",
       "        vertical-align: middle;\n",
       "    }\n",
       "\n",
       "    .dataframe tbody tr th {\n",
       "        vertical-align: top;\n",
       "    }\n",
       "\n",
       "    .dataframe thead th {\n",
       "        text-align: right;\n",
       "    }\n",
       "</style>\n",
       "<table border=\"1\" class=\"dataframe\">\n",
       "  <thead>\n",
       "    <tr style=\"text-align: right;\">\n",
       "      <th></th>\n",
       "      <th>Borough</th>\n",
       "      <th>Neighborhood</th>\n",
       "      <th>Latitude</th>\n",
       "      <th>Longitude</th>\n",
       "    </tr>\n",
       "  </thead>\n",
       "  <tbody>\n",
       "    <tr>\n",
       "      <th>0</th>\n",
       "      <td>Bronx</td>\n",
       "      <td>Wakefield</td>\n",
       "      <td>40.894705</td>\n",
       "      <td>-73.847201</td>\n",
       "    </tr>\n",
       "    <tr>\n",
       "      <th>1</th>\n",
       "      <td>Bronx</td>\n",
       "      <td>Co-op City</td>\n",
       "      <td>40.874294</td>\n",
       "      <td>-73.829939</td>\n",
       "    </tr>\n",
       "    <tr>\n",
       "      <th>2</th>\n",
       "      <td>Bronx</td>\n",
       "      <td>Eastchester</td>\n",
       "      <td>40.887556</td>\n",
       "      <td>-73.827806</td>\n",
       "    </tr>\n",
       "    <tr>\n",
       "      <th>3</th>\n",
       "      <td>Bronx</td>\n",
       "      <td>Fieldston</td>\n",
       "      <td>40.895437</td>\n",
       "      <td>-73.905643</td>\n",
       "    </tr>\n",
       "    <tr>\n",
       "      <th>4</th>\n",
       "      <td>Bronx</td>\n",
       "      <td>Riverdale</td>\n",
       "      <td>40.890834</td>\n",
       "      <td>-73.912585</td>\n",
       "    </tr>\n",
       "  </tbody>\n",
       "</table>\n",
       "</div>"
      ],
      "text/plain": [
       "  Borough Neighborhood   Latitude  Longitude\n",
       "0   Bronx    Wakefield  40.894705 -73.847201\n",
       "1   Bronx   Co-op City  40.874294 -73.829939\n",
       "2   Bronx  Eastchester  40.887556 -73.827806\n",
       "3   Bronx    Fieldston  40.895437 -73.905643\n",
       "4   Bronx    Riverdale  40.890834 -73.912585"
      ]
     },
     "execution_count": 54,
     "metadata": {},
     "output_type": "execute_result"
    }
   ],
   "source": [
    "ny_data.head()"
   ]
  },
  {
   "cell_type": "code",
   "execution_count": 55,
   "metadata": {},
   "outputs": [
    {
     "data": {
      "text/plain": [
       "(306, 4)"
      ]
     },
     "execution_count": 55,
     "metadata": {},
     "output_type": "execute_result"
    }
   ],
   "source": [
    "ny_data.shape"
   ]
  },
  {
   "cell_type": "markdown",
   "metadata": {},
   "source": [
    "## there are 306 different Neighborhoods in New York.\n",
    "Now let create a BAR PLOT to show different Neighborhoods in New York."
   ]
  },
  {
   "cell_type": "code",
   "execution_count": 56,
   "metadata": {},
   "outputs": [
    {
     "data": {
      "image/png": "[encoded data removed]",
      "text/plain": [
       "<Figure size 900x500 with 1 Axes>"
      ]
     },
     "metadata": {
      "needs_background": "light"
     },
     "output_type": "display_data"
    }
   ],
   "source": [
    "plt.figure(figsize=(9,5), dpi = 100)\n",
    "# title\n",
    "plt.title('Number of Neighborhood for each Borough in New York City')\n",
    "#On x-axis\n",
    "plt.xlabel('Borough', fontsize = 15)\n",
    "#On y-axis\n",
    "plt.ylabel('No.of Neighborhood', fontsize=15)\n",
    "#giving a bar plot\n",
    "ny_data.groupby('Borough')['Neighborhood'].count().plot(kind='bar')\n",
    "#legend\n",
    "plt.legend()\n",
    "#displays the plot\n",
    "plt.show()"
   ]
  },
  {
   "cell_type": "markdown",
   "metadata": {},
   "source": [
    "Queens has highest number of neighborhoods.\n",
    "Next we will collect Indian resturants for each Neighborhood."
   ]
  },
  {
   "cell_type": "code",
   "execution_count": 57,
   "metadata": {},
   "outputs": [
    {
     "name": "stdout",
     "output_type": "stream",
     "text": [
      "( 1 / 306 ) Indian Resturants in Wakefield, Bronx:0\n",
      "( 1 / 306 ) Indian Resturants in Co-op City, Bronx:0\n",
      "( 1 / 306 ) Indian Resturants in Eastchester, Bronx:0\n",
      "( 1 / 306 ) Indian Resturants in Fieldston, Bronx:0\n",
      "( 1 / 306 ) Indian Resturants in Riverdale, Bronx:0\n",
      "( 1 / 306 ) Indian Resturants in Kingsbridge, Bronx:0\n",
      "( 1 / 306 ) Indian Resturants in Marble Hill, Manhattan:0\n",
      "( 1 / 306 ) Indian Resturants in Woodlawn, Bronx:1\n",
      "( 1 / 306 ) Indian Resturants in Norwood, Bronx:0\n",
      "( 1 / 306 ) Indian Resturants in Williamsbridge, Bronx:0\n",
      "( 1 / 306 ) Indian Resturants in Baychester, Bronx:0\n",
      "( 1 / 306 ) Indian Resturants in Pelham Parkway, Bronx:0\n",
      "( 1 / 306 ) Indian Resturants in City Island, Bronx:0\n",
      "( 1 / 306 ) Indian Resturants in Bedford Park, Bronx:0\n",
      "( 1 / 306 ) Indian Resturants in University Heights, Bronx:0\n",
      "( 1 / 306 ) Indian Resturants in Morris Heights, Bronx:0\n",
      "( 1 / 306 ) Indian Resturants in Fordham, Bronx:0\n",
      "( 1 / 306 ) Indian Resturants in East Tremont, Bronx:0\n",
      "( 1 / 306 ) Indian Resturants in West Farms, Bronx:0\n",
      "( 1 / 306 ) Indian Resturants in High  Bridge, Bronx:0\n",
      "( 1 / 306 ) Indian Resturants in Melrose, Bronx:0\n",
      "( 1 / 306 ) Indian Resturants in Mott Haven, Bronx:0\n",
      "( 1 / 306 ) Indian Resturants in Port Morris, Bronx:0\n",
      "( 1 / 306 ) Indian Resturants in Longwood, Bronx:0\n",
      "( 1 / 306 ) Indian Resturants in Hunts Point, Bronx:0\n",
      "( 1 / 306 ) Indian Resturants in Morrisania, Bronx:0\n",
      "( 1 / 306 ) Indian Resturants in Soundview, Bronx:0\n",
      "( 1 / 306 ) Indian Resturants in Clason Point, Bronx:0\n",
      "( 1 / 306 ) Indian Resturants in Throgs Neck, Bronx:0\n",
      "( 1 / 306 ) Indian Resturants in Country Club, Bronx:0\n",
      "( 1 / 306 ) Indian Resturants in Parkchester, Bronx:1\n",
      "( 1 / 306 ) Indian Resturants in Westchester Square, Bronx:0\n",
      "( 1 / 306 ) Indian Resturants in Van Nest, Bronx:0\n",
      "( 1 / 306 ) Indian Resturants in Morris Park, Bronx:0\n",
      "( 1 / 306 ) Indian Resturants in Belmont, Bronx:0\n",
      "( 1 / 306 ) Indian Resturants in Spuyten Duyvil, Bronx:1\n",
      "( 1 / 306 ) Indian Resturants in North Riverdale, Bronx:0\n",
      "( 1 / 306 ) Indian Resturants in Pelham Bay, Bronx:0\n",
      "( 1 / 306 ) Indian Resturants in Schuylerville, Bronx:0\n",
      "( 1 / 306 ) Indian Resturants in Edgewater Park, Bronx:0\n",
      "( 1 / 306 ) Indian Resturants in Castle Hill, Bronx:0\n",
      "( 1 / 306 ) Indian Resturants in Olinville, Bronx:0\n",
      "( 1 / 306 ) Indian Resturants in Pelham Gardens, Bronx:0\n",
      "( 1 / 306 ) Indian Resturants in Concourse, Bronx:1\n",
      "( 1 / 306 ) Indian Resturants in Unionport, Bronx:1\n",
      "( 1 / 306 ) Indian Resturants in Edenwald, Bronx:0\n",
      "( 1 / 306 ) Indian Resturants in Bay Ridge, Brooklyn:2\n",
      "( 1 / 306 ) Indian Resturants in Bensonhurst, Brooklyn:0\n",
      "( 1 / 306 ) Indian Resturants in Sunset Park, Brooklyn:0\n",
      "( 1 / 306 ) Indian Resturants in Greenpoint, Brooklyn:0\n",
      "( 1 / 306 ) Indian Resturants in Gravesend, Brooklyn:0\n",
      "( 1 / 306 ) Indian Resturants in Brighton Beach, Brooklyn:1\n",
      "( 1 / 306 ) Indian Resturants in Sheepshead Bay, Brooklyn:0\n",
      "( 1 / 306 ) Indian Resturants in Manhattan Terrace, Brooklyn:0\n",
      "( 1 / 306 ) Indian Resturants in Flatbush, Brooklyn:2\n",
      "( 1 / 306 ) Indian Resturants in Crown Heights, Brooklyn:0\n"
     ]
    },
    {
     "ename": "KeyError",
     "evalue": "'groups'",
     "output_type": "error",
     "traceback": [
      "\u001b[1;31m---------------------------------------------------------------------------\u001b[0m",
      "\u001b[1;31mKeyError\u001b[0m                                  Traceback (most recent call last)",
      "\u001b[1;32m<ipython-input-57-e872afe0c6ad>\u001b[0m in \u001b[0;36m<module>\u001b[1;34m\u001b[0m\n\u001b[0;32m      5\u001b[0m \u001b[1;32mfor\u001b[0m \u001b[0mrow\u001b[0m \u001b[1;32min\u001b[0m \u001b[0mny_data\u001b[0m\u001b[1;33m.\u001b[0m\u001b[0mvalues\u001b[0m\u001b[1;33m.\u001b[0m\u001b[0mtolist\u001b[0m\u001b[1;33m(\u001b[0m\u001b[1;33m)\u001b[0m\u001b[1;33m:\u001b[0m\u001b[1;33m\u001b[0m\u001b[1;33m\u001b[0m\u001b[0m\n\u001b[0;32m      6\u001b[0m     \u001b[0mBorough\u001b[0m\u001b[1;33m,\u001b[0m \u001b[0mNeighborhood\u001b[0m\u001b[1;33m,\u001b[0m \u001b[0mLatitude\u001b[0m\u001b[1;33m,\u001b[0m \u001b[0mLongitude\u001b[0m\u001b[1;33m=\u001b[0m\u001b[0mrow\u001b[0m\u001b[1;33m\u001b[0m\u001b[1;33m\u001b[0m\u001b[0m\n\u001b[1;32m----> 7\u001b[1;33m     \u001b[0mvenues\u001b[0m \u001b[1;33m=\u001b[0m \u001b[0mget_venues\u001b[0m\u001b[1;33m(\u001b[0m\u001b[0mLatitude\u001b[0m\u001b[1;33m,\u001b[0m\u001b[0mLongitude\u001b[0m\u001b[1;33m)\u001b[0m\u001b[1;33m\u001b[0m\u001b[1;33m\u001b[0m\u001b[0m\n\u001b[0m\u001b[0;32m      8\u001b[0m     \u001b[0mindian_resturants\u001b[0m\u001b[1;33m=\u001b[0m\u001b[0mvenues\u001b[0m\u001b[1;33m[\u001b[0m\u001b[0mvenues\u001b[0m\u001b[1;33m[\u001b[0m\u001b[1;34m'Category'\u001b[0m\u001b[1;33m]\u001b[0m\u001b[1;33m==\u001b[0m\u001b[1;34m'Indian Restaurant'\u001b[0m\u001b[1;33m]\u001b[0m\u001b[1;33m\u001b[0m\u001b[1;33m\u001b[0m\u001b[0m\n\u001b[0;32m      9\u001b[0m     \u001b[0mprint\u001b[0m\u001b[1;33m(\u001b[0m\u001b[1;34m'('\u001b[0m\u001b[1;33m,\u001b[0m\u001b[0mcount\u001b[0m\u001b[1;33m,\u001b[0m\u001b[1;34m'/'\u001b[0m\u001b[1;33m,\u001b[0m\u001b[0mlen\u001b[0m\u001b[1;33m(\u001b[0m\u001b[0mny_data\u001b[0m\u001b[1;33m)\u001b[0m\u001b[1;33m,\u001b[0m\u001b[1;34m')'\u001b[0m\u001b[1;33m,\u001b[0m\u001b[1;34m'Indian Resturants in '\u001b[0m\u001b[1;33m+\u001b[0m\u001b[0mNeighborhood\u001b[0m\u001b[1;33m+\u001b[0m\u001b[1;34m', '\u001b[0m\u001b[1;33m+\u001b[0m\u001b[0mBorough\u001b[0m\u001b[1;33m+\u001b[0m\u001b[1;34m':'\u001b[0m\u001b[1;33m+\u001b[0m\u001b[0mstr\u001b[0m\u001b[1;33m(\u001b[0m\u001b[0mlen\u001b[0m\u001b[1;33m(\u001b[0m\u001b[0mindian_resturants\u001b[0m\u001b[1;33m)\u001b[0m\u001b[1;33m)\u001b[0m\u001b[1;33m)\u001b[0m\u001b[1;33m\u001b[0m\u001b[1;33m\u001b[0m\u001b[0m\n",
      "\u001b[1;32m<ipython-input-50-76a1b8966030>\u001b[0m in \u001b[0;36mget_venues\u001b[1;34m(lat, lng)\u001b[0m\n\u001b[0;32m     20\u001b[0m     \u001b[1;31m# get all the data\u001b[0m\u001b[1;33m\u001b[0m\u001b[1;33m\u001b[0m\u001b[1;33m\u001b[0m\u001b[0m\n\u001b[0;32m     21\u001b[0m     \u001b[0mresults\u001b[0m \u001b[1;33m=\u001b[0m \u001b[0mrequests\u001b[0m\u001b[1;33m.\u001b[0m\u001b[0mget\u001b[0m\u001b[1;33m(\u001b[0m\u001b[0murl\u001b[0m\u001b[1;33m)\u001b[0m\u001b[1;33m.\u001b[0m\u001b[0mjson\u001b[0m\u001b[1;33m(\u001b[0m\u001b[1;33m)\u001b[0m\u001b[1;33m\u001b[0m\u001b[1;33m\u001b[0m\u001b[0m\n\u001b[1;32m---> 22\u001b[1;33m     \u001b[0mvenue_data\u001b[0m\u001b[1;33m=\u001b[0m\u001b[0mresults\u001b[0m\u001b[1;33m[\u001b[0m\u001b[1;34m\"response\"\u001b[0m\u001b[1;33m]\u001b[0m\u001b[1;33m[\u001b[0m\u001b[1;34m'groups'\u001b[0m\u001b[1;33m]\u001b[0m\u001b[1;33m[\u001b[0m\u001b[1;36m0\u001b[0m\u001b[1;33m]\u001b[0m\u001b[1;33m[\u001b[0m\u001b[1;34m'items'\u001b[0m\u001b[1;33m]\u001b[0m\u001b[1;33m\u001b[0m\u001b[1;33m\u001b[0m\u001b[0m\n\u001b[0m\u001b[0;32m     23\u001b[0m     \u001b[0mvenue_details\u001b[0m\u001b[1;33m=\u001b[0m\u001b[1;33m[\u001b[0m\u001b[1;33m]\u001b[0m\u001b[1;33m\u001b[0m\u001b[1;33m\u001b[0m\u001b[0m\n\u001b[0;32m     24\u001b[0m     \u001b[1;32mfor\u001b[0m \u001b[0mrow\u001b[0m \u001b[1;32min\u001b[0m \u001b[0mvenue_data\u001b[0m\u001b[1;33m:\u001b[0m\u001b[1;33m\u001b[0m\u001b[1;33m\u001b[0m\u001b[0m\n",
      "\u001b[1;31mKeyError\u001b[0m: 'groups'"
     ]
    }
   ],
   "source": [
    "# prepare neighborhood list that contains indian resturants\n",
    "column_names=['Borough', 'Neighborhood', 'ID','Name']\n",
    "indian_rest_ny=pd.DataFrame(columns=column_names)\n",
    "count=1\n",
    "for row in ny_data.values.tolist():\n",
    "    Borough, Neighborhood, Latitude, Longitude=row\n",
    "    venues = get_venues(Latitude,Longitude)\n",
    "    indian_resturants=venues[venues['Category']=='Indian Restaurant']   \n",
    "    print('(',count,'/',len(ny_data),')','Indian Resturants in '+Neighborhood+', '+Borough+':'+str(len(indian_resturants)))\n",
    "    for resturant_detail in indian_resturants.values.tolist():\n",
    "        id, name , category=resturant_detail\n",
    "        indian_rest_ny = indian_rest_ny.append({'Borough': Borough,\n",
    "                                                'Neighborhood': Neighborhood, \n",
    "                                                'ID': id,\n",
    "                                                'Name' : name\n",
    "                                               }, ignore_index=True)"
   ]
  },
  {
   "cell_type": "code",
   "execution_count": 58,
   "metadata": {},
   "outputs": [
    {
     "data": {
      "text/html": [
       "<div>\n",
       "<style scoped>\n",
       "    .dataframe tbody tr th:only-of-type {\n",
       "        vertical-align: middle;\n",
       "    }\n",
       "\n",
       "    .dataframe tbody tr th {\n",
       "        vertical-align: top;\n",
       "    }\n",
       "\n",
       "    .dataframe thead th {\n",
       "        text-align: right;\n",
       "    }\n",
       "</style>\n",
       "<table border=\"1\" class=\"dataframe\">\n",
       "  <thead>\n",
       "    <tr style=\"text-align: right;\">\n",
       "      <th></th>\n",
       "      <th>Borough</th>\n",
       "      <th>Neighborhood</th>\n",
       "      <th>ID</th>\n",
       "      <th>Name</th>\n",
       "    </tr>\n",
       "  </thead>\n",
       "  <tbody>\n",
       "    <tr>\n",
       "      <th>0</th>\n",
       "      <td>Bronx</td>\n",
       "      <td>Woodlawn</td>\n",
       "      <td>4c0448d9310fc9b6bf1dc761</td>\n",
       "      <td>Curry Spot</td>\n",
       "    </tr>\n",
       "    <tr>\n",
       "      <th>1</th>\n",
       "      <td>Bronx</td>\n",
       "      <td>Parkchester</td>\n",
       "      <td>4c194631838020a13e78e561</td>\n",
       "      <td>Melanies Roti Bar And Grill</td>\n",
       "    </tr>\n",
       "    <tr>\n",
       "      <th>2</th>\n",
       "      <td>Bronx</td>\n",
       "      <td>Spuyten Duyvil</td>\n",
       "      <td>4c04544df423a593ac83d116</td>\n",
       "      <td>Cumin Indian Cuisine</td>\n",
       "    </tr>\n",
       "    <tr>\n",
       "      <th>3</th>\n",
       "      <td>Bronx</td>\n",
       "      <td>Concourse</td>\n",
       "      <td>551b7f75498e86c00a0ed2e1</td>\n",
       "      <td>Hungry Bird</td>\n",
       "    </tr>\n",
       "    <tr>\n",
       "      <th>4</th>\n",
       "      <td>Bronx</td>\n",
       "      <td>Unionport</td>\n",
       "      <td>4c194631838020a13e78e561</td>\n",
       "      <td>Melanies Roti Bar And Grill</td>\n",
       "    </tr>\n",
       "  </tbody>\n",
       "</table>\n",
       "</div>"
      ],
      "text/plain": [
       "  Borough    Neighborhood                        ID  \\\n",
       "0   Bronx        Woodlawn  4c0448d9310fc9b6bf1dc761   \n",
       "1   Bronx     Parkchester  4c194631838020a13e78e561   \n",
       "2   Bronx  Spuyten Duyvil  4c04544df423a593ac83d116   \n",
       "3   Bronx       Concourse  551b7f75498e86c00a0ed2e1   \n",
       "4   Bronx       Unionport  4c194631838020a13e78e561   \n",
       "\n",
       "                          Name  \n",
       "0                   Curry Spot  \n",
       "1  Melanies Roti Bar And Grill  \n",
       "2         Cumin Indian Cuisine  \n",
       "3                  Hungry Bird  \n",
       "4  Melanies Roti Bar And Grill  "
      ]
     },
     "execution_count": 58,
     "metadata": {},
     "output_type": "execute_result"
    }
   ],
   "source": [
    "indian_rest_ny.head()"
   ]
  },
  {
   "cell_type": "code",
   "execution_count": 59,
   "metadata": {},
   "outputs": [
    {
     "data": {
      "text/plain": [
       "(10, 4)"
      ]
     },
     "execution_count": 59,
     "metadata": {},
     "output_type": "execute_result"
    }
   ],
   "source": [
    "indian_rest_ny.shape"
   ]
  },
  {
   "cell_type": "code",
   "execution_count": 60,
   "metadata": {},
   "outputs": [
    {
     "data": {
      "image/png": "[encoded data removed]",
      "text/plain": [
       "<Figure size 900x500 with 1 Axes>"
      ]
     },
     "metadata": {
      "needs_background": "light"
     },
     "output_type": "display_data"
    }
   ],
   "source": [
    "plt.figure(figsize=(9,5), dpi = 100)\n",
    "# title\n",
    "plt.title('Number of Indian Resturants for each Borough in New York City')\n",
    "#On x-axis\n",
    "plt.xlabel('Borough', fontsize = 15)\n",
    "#On y-axis\n",
    "plt.ylabel('No.of Indian Resturants', fontsize=15)\n",
    "#giving a bar plot\n",
    "indian_rest_ny.groupby('Borough')['ID'].count().plot(kind='bar')\n",
    "#legend\n",
    "plt.legend()\n",
    "#displays the plot\n",
    "plt.show()"
   ]
  },
  {
   "cell_type": "code",
   "execution_count": 61,
   "metadata": {},
   "outputs": [
    {
     "data": {
      "image/png": "[encoded data removed]",
      "text/plain": [
       "<Figure size 900x500 with 1 Axes>"
      ]
     },
     "metadata": {
      "needs_background": "light"
     },
     "output_type": "display_data"
    }
   ],
   "source": [
    "plt.figure(figsize=(9,5), dpi = 100)\n",
    "# title\n",
    "plt.title('Number of Indian Resturants for each Neighborhood in New York City')\n",
    "#On x-axis\n",
    "plt.xlabel('Neighborhood', fontsize = 15)\n",
    "#On y-axis\n",
    "plt.ylabel('No.of Indian Resturants', fontsize=15)\n",
    "#giving a bar plot\n",
    "indian_rest_ny.groupby('Neighborhood')['ID'].count().nlargest(5).plot(kind='bar')\n",
    "#legend\n",
    "plt.legend()\n",
    "#displays the plot\n",
    "plt.show()"
   ]
  },
  {
   "cell_type": "code",
   "execution_count": 62,
   "metadata": {},
   "outputs": [
    {
     "data": {
      "text/html": [
       "<div>\n",
       "<style scoped>\n",
       "    .dataframe tbody tr th:only-of-type {\n",
       "        vertical-align: middle;\n",
       "    }\n",
       "\n",
       "    .dataframe tbody tr th {\n",
       "        vertical-align: top;\n",
       "    }\n",
       "\n",
       "    .dataframe thead th {\n",
       "        text-align: right;\n",
       "    }\n",
       "</style>\n",
       "<table border=\"1\" class=\"dataframe\">\n",
       "  <thead>\n",
       "    <tr style=\"text-align: right;\">\n",
       "      <th></th>\n",
       "      <th>Borough</th>\n",
       "      <th>Neighborhood</th>\n",
       "      <th>ID</th>\n",
       "      <th>Name</th>\n",
       "    </tr>\n",
       "  </thead>\n",
       "  <tbody>\n",
       "    <tr>\n",
       "      <th>5</th>\n",
       "      <td>Brooklyn</td>\n",
       "      <td>Bay Ridge</td>\n",
       "      <td>4b5a4dc8f964a520a2bb28e3</td>\n",
       "      <td>Taj Mahal</td>\n",
       "    </tr>\n",
       "    <tr>\n",
       "      <th>6</th>\n",
       "      <td>Brooklyn</td>\n",
       "      <td>Bay Ridge</td>\n",
       "      <td>545835a1498e820edc6f636f</td>\n",
       "      <td>Bombay Grill</td>\n",
       "    </tr>\n",
       "  </tbody>\n",
       "</table>\n",
       "</div>"
      ],
      "text/plain": [
       "    Borough Neighborhood                        ID          Name\n",
       "5  Brooklyn    Bay Ridge  4b5a4dc8f964a520a2bb28e3     Taj Mahal\n",
       "6  Brooklyn    Bay Ridge  545835a1498e820edc6f636f  Bombay Grill"
      ]
     },
     "execution_count": 62,
     "metadata": {},
     "output_type": "execute_result"
    }
   ],
   "source": [
    "indian_rest_ny[indian_rest_ny['Neighborhood']=='Bay Ridge']"
   ]
  },
  {
   "cell_type": "code",
   "execution_count": 63,
   "metadata": {},
   "outputs": [
    {
     "name": "stdout",
     "output_type": "stream",
     "text": [
      "                         ID        Name  Likes  Rating  Tips\n",
      "0  4c0448d9310fc9b6bf1dc761  Curry Spot      5     8.1    10\n",
      "( 1 / 10 ) processed\n",
      "                         ID                         Name  Likes  Rating  Tips\n",
      "0  4c194631838020a13e78e561  Melanies Roti Bar And Grill      3     5.9     2\n",
      "( 2 / 10 ) processed\n",
      "                         ID                  Name  Likes  Rating  Tips\n",
      "0  4c04544df423a593ac83d116  Cumin Indian Cuisine     13     5.8     9\n",
      "( 3 / 10 ) processed\n",
      "                         ID         Name  Likes  Rating  Tips\n",
      "0  551b7f75498e86c00a0ed2e1  Hungry Bird      8     7.0     3\n",
      "( 4 / 10 ) processed\n",
      "                         ID                         Name  Likes  Rating  Tips\n",
      "0  4c194631838020a13e78e561  Melanies Roti Bar And Grill      3     5.9     2\n",
      "( 5 / 10 ) processed\n",
      "                         ID       Name  Likes  Rating  Tips\n",
      "0  4b5a4dc8f964a520a2bb28e3  Taj Mahal     37     8.0    26\n",
      "( 6 / 10 ) processed\n",
      "                         ID          Name  Likes  Rating  Tips\n",
      "0  545835a1498e820edc6f636f  Bombay Grill     14     7.1     4\n",
      "( 7 / 10 ) processed\n",
      "                         ID          Name  Likes  Rating  Tips\n",
      "0  4af0d31bf964a5207ddf21e3  Pak Nasheman      9     7.4     4\n",
      "( 8 / 10 ) processed\n",
      "                         ID          Name  Likes  Rating  Tips\n",
      "0  52213c4211d295d4c57a607c  Ashoka Grill      8     7.1    14\n",
      "( 9 / 10 ) processed\n",
      "                         ID                Name  Likes  Rating  Tips\n",
      "0  564d283d498e6e851df79d87  Great Indian Curry      3     6.8     2\n",
      "( 10 / 10 ) processed\n"
     ]
    }
   ],
   "source": [
    "# prepare neighborhood list that contains indian resturants\n",
    "column_names=['Borough', 'Neighborhood', 'ID','Name','Likes','Rating','Tips']\n",
    "indian_rest_stats_ny=pd.DataFrame(columns=column_names)\n",
    "count=1\n",
    "\n",
    "\n",
    "for row in indian_rest_ny.values.tolist():\n",
    "    Borough,Neighborhood,ID,Name=row\n",
    "    try:\n",
    "        venue_details=get_venue_details(ID)\n",
    "        print(venue_details)\n",
    "        id,name,likes,rating,tips=venue_details.values.tolist()[0]\n",
    "    except IndexError:\n",
    "        print('No data available for id=',ID)\n",
    "        # we will assign 0 value for these resturants as they may have been \n",
    "        #recently opened or details does not exist in FourSquare Database\n",
    "        id,name,likes,rating,tips=[0]*5\n",
    "    print('(',count,'/',len(indian_rest_ny),')','processed')\n",
    "    indian_rest_stats_ny = indian_rest_stats_ny.append({'Borough': Borough,\n",
    "                                                'Neighborhood': Neighborhood, \n",
    "                                                'ID': id,\n",
    "                                                'Name' : name,\n",
    "                                                'Likes' : likes,\n",
    "                                                'Rating' : rating,\n",
    "                                                'Tips' : tips\n",
    "                                               }, ignore_index=True)\n",
    "    count+=1"
   ]
  },
  {
   "cell_type": "code",
   "execution_count": 64,
   "metadata": {},
   "outputs": [
    {
     "data": {
      "text/html": [
       "<div>\n",
       "<style scoped>\n",
       "    .dataframe tbody tr th:only-of-type {\n",
       "        vertical-align: middle;\n",
       "    }\n",
       "\n",
       "    .dataframe tbody tr th {\n",
       "        vertical-align: top;\n",
       "    }\n",
       "\n",
       "    .dataframe thead th {\n",
       "        text-align: right;\n",
       "    }\n",
       "</style>\n",
       "<table border=\"1\" class=\"dataframe\">\n",
       "  <thead>\n",
       "    <tr style=\"text-align: right;\">\n",
       "      <th></th>\n",
       "      <th>Borough</th>\n",
       "      <th>Neighborhood</th>\n",
       "      <th>ID</th>\n",
       "      <th>Name</th>\n",
       "      <th>Likes</th>\n",
       "      <th>Rating</th>\n",
       "      <th>Tips</th>\n",
       "    </tr>\n",
       "  </thead>\n",
       "  <tbody>\n",
       "    <tr>\n",
       "      <th>0</th>\n",
       "      <td>Bronx</td>\n",
       "      <td>Woodlawn</td>\n",
       "      <td>4c0448d9310fc9b6bf1dc761</td>\n",
       "      <td>Curry Spot</td>\n",
       "      <td>5</td>\n",
       "      <td>8.1</td>\n",
       "      <td>10</td>\n",
       "    </tr>\n",
       "    <tr>\n",
       "      <th>1</th>\n",
       "      <td>Bronx</td>\n",
       "      <td>Parkchester</td>\n",
       "      <td>4c194631838020a13e78e561</td>\n",
       "      <td>Melanies Roti Bar And Grill</td>\n",
       "      <td>3</td>\n",
       "      <td>5.9</td>\n",
       "      <td>2</td>\n",
       "    </tr>\n",
       "    <tr>\n",
       "      <th>2</th>\n",
       "      <td>Bronx</td>\n",
       "      <td>Spuyten Duyvil</td>\n",
       "      <td>4c04544df423a593ac83d116</td>\n",
       "      <td>Cumin Indian Cuisine</td>\n",
       "      <td>13</td>\n",
       "      <td>5.8</td>\n",
       "      <td>9</td>\n",
       "    </tr>\n",
       "    <tr>\n",
       "      <th>3</th>\n",
       "      <td>Bronx</td>\n",
       "      <td>Concourse</td>\n",
       "      <td>551b7f75498e86c00a0ed2e1</td>\n",
       "      <td>Hungry Bird</td>\n",
       "      <td>8</td>\n",
       "      <td>7.0</td>\n",
       "      <td>3</td>\n",
       "    </tr>\n",
       "    <tr>\n",
       "      <th>4</th>\n",
       "      <td>Bronx</td>\n",
       "      <td>Unionport</td>\n",
       "      <td>4c194631838020a13e78e561</td>\n",
       "      <td>Melanies Roti Bar And Grill</td>\n",
       "      <td>3</td>\n",
       "      <td>5.9</td>\n",
       "      <td>2</td>\n",
       "    </tr>\n",
       "  </tbody>\n",
       "</table>\n",
       "</div>"
      ],
      "text/plain": [
       "  Borough    Neighborhood                        ID  \\\n",
       "0   Bronx        Woodlawn  4c0448d9310fc9b6bf1dc761   \n",
       "1   Bronx     Parkchester  4c194631838020a13e78e561   \n",
       "2   Bronx  Spuyten Duyvil  4c04544df423a593ac83d116   \n",
       "3   Bronx       Concourse  551b7f75498e86c00a0ed2e1   \n",
       "4   Bronx       Unionport  4c194631838020a13e78e561   \n",
       "\n",
       "                          Name Likes  Rating Tips  \n",
       "0                   Curry Spot     5     8.1   10  \n",
       "1  Melanies Roti Bar And Grill     3     5.9    2  \n",
       "2         Cumin Indian Cuisine    13     5.8    9  \n",
       "3                  Hungry Bird     8     7.0    3  \n",
       "4  Melanies Roti Bar And Grill     3     5.9    2  "
      ]
     },
     "execution_count": 64,
     "metadata": {},
     "output_type": "execute_result"
    }
   ],
   "source": [
    "indian_rest_stats_ny.head()"
   ]
  },
  {
   "cell_type": "code",
   "execution_count": 65,
   "metadata": {},
   "outputs": [
    {
     "data": {
      "text/plain": [
       "(10, 7)"
      ]
     },
     "execution_count": 65,
     "metadata": {},
     "output_type": "execute_result"
    }
   ],
   "source": [
    "indian_rest_stats_ny.shape"
   ]
  },
  {
   "cell_type": "code",
   "execution_count": 66,
   "metadata": {},
   "outputs": [
    {
     "data": {
      "text/plain": [
       "(10, 4)"
      ]
     },
     "execution_count": 66,
     "metadata": {},
     "output_type": "execute_result"
    }
   ],
   "source": [
    "indian_rest_ny.shape"
   ]
  },
  {
   "cell_type": "code",
   "execution_count": 67,
   "metadata": {},
   "outputs": [],
   "source": [
    "indian_rest_stats_ny.to_csv('indian_rest_stats_ny.csv', index=False)"
   ]
  },
  {
   "cell_type": "code",
   "execution_count": 68,
   "metadata": {},
   "outputs": [],
   "source": [
    "indian_rest_stats_ny_csv=pd.read_csv('indian_rest_stats_ny.csv')"
   ]
  },
  {
   "cell_type": "code",
   "execution_count": 69,
   "metadata": {},
   "outputs": [
    {
     "data": {
      "text/plain": [
       "(10, 7)"
      ]
     },
     "execution_count": 69,
     "metadata": {},
     "output_type": "execute_result"
    }
   ],
   "source": [
    "indian_rest_stats_ny_csv.shape"
   ]
  },
  {
   "cell_type": "code",
   "execution_count": 70,
   "metadata": {},
   "outputs": [
    {
     "data": {
      "text/html": [
       "<div>\n",
       "<style scoped>\n",
       "    .dataframe tbody tr th:only-of-type {\n",
       "        vertical-align: middle;\n",
       "    }\n",
       "\n",
       "    .dataframe tbody tr th {\n",
       "        vertical-align: top;\n",
       "    }\n",
       "\n",
       "    .dataframe thead th {\n",
       "        text-align: right;\n",
       "    }\n",
       "</style>\n",
       "<table border=\"1\" class=\"dataframe\">\n",
       "  <thead>\n",
       "    <tr style=\"text-align: right;\">\n",
       "      <th></th>\n",
       "      <th>Borough</th>\n",
       "      <th>Neighborhood</th>\n",
       "      <th>ID</th>\n",
       "      <th>Name</th>\n",
       "      <th>Likes</th>\n",
       "      <th>Rating</th>\n",
       "      <th>Tips</th>\n",
       "    </tr>\n",
       "  </thead>\n",
       "  <tbody>\n",
       "    <tr>\n",
       "      <th>0</th>\n",
       "      <td>Bronx</td>\n",
       "      <td>Woodlawn</td>\n",
       "      <td>4c0448d9310fc9b6bf1dc761</td>\n",
       "      <td>Curry Spot</td>\n",
       "      <td>5</td>\n",
       "      <td>8.1</td>\n",
       "      <td>10</td>\n",
       "    </tr>\n",
       "    <tr>\n",
       "      <th>1</th>\n",
       "      <td>Bronx</td>\n",
       "      <td>Parkchester</td>\n",
       "      <td>4c194631838020a13e78e561</td>\n",
       "      <td>Melanies Roti Bar And Grill</td>\n",
       "      <td>3</td>\n",
       "      <td>5.9</td>\n",
       "      <td>2</td>\n",
       "    </tr>\n",
       "    <tr>\n",
       "      <th>2</th>\n",
       "      <td>Bronx</td>\n",
       "      <td>Spuyten Duyvil</td>\n",
       "      <td>4c04544df423a593ac83d116</td>\n",
       "      <td>Cumin Indian Cuisine</td>\n",
       "      <td>13</td>\n",
       "      <td>5.8</td>\n",
       "      <td>9</td>\n",
       "    </tr>\n",
       "    <tr>\n",
       "      <th>3</th>\n",
       "      <td>Bronx</td>\n",
       "      <td>Concourse</td>\n",
       "      <td>551b7f75498e86c00a0ed2e1</td>\n",
       "      <td>Hungry Bird</td>\n",
       "      <td>8</td>\n",
       "      <td>7.0</td>\n",
       "      <td>3</td>\n",
       "    </tr>\n",
       "    <tr>\n",
       "      <th>4</th>\n",
       "      <td>Bronx</td>\n",
       "      <td>Unionport</td>\n",
       "      <td>4c194631838020a13e78e561</td>\n",
       "      <td>Melanies Roti Bar And Grill</td>\n",
       "      <td>3</td>\n",
       "      <td>5.9</td>\n",
       "      <td>2</td>\n",
       "    </tr>\n",
       "  </tbody>\n",
       "</table>\n",
       "</div>"
      ],
      "text/plain": [
       "  Borough    Neighborhood                        ID  \\\n",
       "0   Bronx        Woodlawn  4c0448d9310fc9b6bf1dc761   \n",
       "1   Bronx     Parkchester  4c194631838020a13e78e561   \n",
       "2   Bronx  Spuyten Duyvil  4c04544df423a593ac83d116   \n",
       "3   Bronx       Concourse  551b7f75498e86c00a0ed2e1   \n",
       "4   Bronx       Unionport  4c194631838020a13e78e561   \n",
       "\n",
       "                          Name  Likes  Rating  Tips  \n",
       "0                   Curry Spot      5     8.1    10  \n",
       "1  Melanies Roti Bar And Grill      3     5.9     2  \n",
       "2         Cumin Indian Cuisine     13     5.8     9  \n",
       "3                  Hungry Bird      8     7.0     3  \n",
       "4  Melanies Roti Bar And Grill      3     5.9     2  "
      ]
     },
     "execution_count": 70,
     "metadata": {},
     "output_type": "execute_result"
    }
   ],
   "source": [
    "indian_rest_stats_ny_csv.head()"
   ]
  },
  {
   "cell_type": "code",
   "execution_count": 71,
   "metadata": {},
   "outputs": [
    {
     "name": "stdout",
     "output_type": "stream",
     "text": [
      "<class 'pandas.core.frame.DataFrame'>\n",
      "RangeIndex: 10 entries, 0 to 9\n",
      "Data columns (total 7 columns):\n",
      " #   Column        Non-Null Count  Dtype  \n",
      "---  ------        --------------  -----  \n",
      " 0   Borough       10 non-null     object \n",
      " 1   Neighborhood  10 non-null     object \n",
      " 2   ID            10 non-null     object \n",
      " 3   Name          10 non-null     object \n",
      " 4   Likes         10 non-null     object \n",
      " 5   Rating        10 non-null     float64\n",
      " 6   Tips          10 non-null     object \n",
      "dtypes: float64(1), object(6)\n",
      "memory usage: 688.0+ bytes\n"
     ]
    }
   ],
   "source": [
    "indian_rest_stats_ny.info()"
   ]
  },
  {
   "cell_type": "code",
   "execution_count": 72,
   "metadata": {},
   "outputs": [],
   "source": [
    "indian_rest_stats_ny['Likes']=indian_rest_stats_ny['Likes'].astype('float64')\n",
    "indian_rest_stats_ny['Tips']=indian_rest_stats_ny['Tips'].astype('float64')"
   ]
  },
  {
   "cell_type": "code",
   "execution_count": 73,
   "metadata": {},
   "outputs": [
    {
     "name": "stdout",
     "output_type": "stream",
     "text": [
      "<class 'pandas.core.frame.DataFrame'>\n",
      "RangeIndex: 10 entries, 0 to 9\n",
      "Data columns (total 7 columns):\n",
      " #   Column        Non-Null Count  Dtype  \n",
      "---  ------        --------------  -----  \n",
      " 0   Borough       10 non-null     object \n",
      " 1   Neighborhood  10 non-null     object \n",
      " 2   ID            10 non-null     object \n",
      " 3   Name          10 non-null     object \n",
      " 4   Likes         10 non-null     float64\n",
      " 5   Rating        10 non-null     float64\n",
      " 6   Tips          10 non-null     float64\n",
      "dtypes: float64(3), object(4)\n",
      "memory usage: 688.0+ bytes\n"
     ]
    }
   ],
   "source": [
    "indian_rest_stats_ny.info()"
   ]
  },
  {
   "cell_type": "code",
   "execution_count": 74,
   "metadata": {},
   "outputs": [
    {
     "data": {
      "text/plain": [
       "Borough                         Brooklyn\n",
       "Neighborhood                   Bay Ridge\n",
       "ID              4b5a4dc8f964a520a2bb28e3\n",
       "Name                           Taj Mahal\n",
       "Likes                                 37\n",
       "Rating                                 8\n",
       "Tips                                  26\n",
       "Name: 5, dtype: object"
      ]
     },
     "execution_count": 74,
     "metadata": {},
     "output_type": "execute_result"
    }
   ],
   "source": [
    "# Resturant with maximum Likes\n",
    "indian_rest_stats_ny.iloc[indian_rest_stats_ny['Likes'].idxmax()]"
   ]
  },
  {
   "cell_type": "code",
   "execution_count": 75,
   "metadata": {},
   "outputs": [
    {
     "data": {
      "text/plain": [
       "Borough                            Bronx\n",
       "Neighborhood                    Woodlawn\n",
       "ID              4c0448d9310fc9b6bf1dc761\n",
       "Name                          Curry Spot\n",
       "Likes                                  5\n",
       "Rating                               8.1\n",
       "Tips                                  10\n",
       "Name: 0, dtype: object"
      ]
     },
     "execution_count": 75,
     "metadata": {},
     "output_type": "execute_result"
    }
   ],
   "source": [
    "# Resturant with maximum Rating\n",
    "indian_rest_stats_ny.iloc[indian_rest_stats_ny['Rating'].idxmax()]"
   ]
  },
  {
   "cell_type": "code",
   "execution_count": 76,
   "metadata": {},
   "outputs": [
    {
     "data": {
      "text/plain": [
       "Borough                         Brooklyn\n",
       "Neighborhood                   Bay Ridge\n",
       "ID              4b5a4dc8f964a520a2bb28e3\n",
       "Name                           Taj Mahal\n",
       "Likes                                 37\n",
       "Rating                                 8\n",
       "Tips                                  26\n",
       "Name: 5, dtype: object"
      ]
     },
     "execution_count": 76,
     "metadata": {},
     "output_type": "execute_result"
    }
   ],
   "source": [
    "# Resturant with maximum Tips\n",
    "indian_rest_stats_ny.iloc[indian_rest_stats_ny['Tips'].idxmax()]"
   ]
  },
  {
   "cell_type": "code",
   "execution_count": 77,
   "metadata": {},
   "outputs": [],
   "source": [
    "ny_neighborhood_stats=indian_rest_stats_ny.groupby('Neighborhood',as_index=False).mean()[['Neighborhood','Rating']]\n",
    "ny_neighborhood_stats.columns=['Neighborhood','Average Rating']"
   ]
  },
  {
   "cell_type": "code",
   "execution_count": 78,
   "metadata": {},
   "outputs": [
    {
     "data": {
      "text/html": [
       "<div>\n",
       "<style scoped>\n",
       "    .dataframe tbody tr th:only-of-type {\n",
       "        vertical-align: middle;\n",
       "    }\n",
       "\n",
       "    .dataframe tbody tr th {\n",
       "        vertical-align: top;\n",
       "    }\n",
       "\n",
       "    .dataframe thead th {\n",
       "        text-align: right;\n",
       "    }\n",
       "</style>\n",
       "<table border=\"1\" class=\"dataframe\">\n",
       "  <thead>\n",
       "    <tr style=\"text-align: right;\">\n",
       "      <th></th>\n",
       "      <th>Neighborhood</th>\n",
       "      <th>Average Rating</th>\n",
       "    </tr>\n",
       "  </thead>\n",
       "  <tbody>\n",
       "    <tr>\n",
       "      <th>7</th>\n",
       "      <td>Woodlawn</td>\n",
       "      <td>8.10</td>\n",
       "    </tr>\n",
       "    <tr>\n",
       "      <th>0</th>\n",
       "      <td>Bay Ridge</td>\n",
       "      <td>7.55</td>\n",
       "    </tr>\n",
       "    <tr>\n",
       "      <th>1</th>\n",
       "      <td>Brighton Beach</td>\n",
       "      <td>7.40</td>\n",
       "    </tr>\n",
       "    <tr>\n",
       "      <th>2</th>\n",
       "      <td>Concourse</td>\n",
       "      <td>7.00</td>\n",
       "    </tr>\n",
       "    <tr>\n",
       "      <th>3</th>\n",
       "      <td>Flatbush</td>\n",
       "      <td>6.95</td>\n",
       "    </tr>\n",
       "    <tr>\n",
       "      <th>4</th>\n",
       "      <td>Parkchester</td>\n",
       "      <td>5.90</td>\n",
       "    </tr>\n",
       "    <tr>\n",
       "      <th>6</th>\n",
       "      <td>Unionport</td>\n",
       "      <td>5.90</td>\n",
       "    </tr>\n",
       "    <tr>\n",
       "      <th>5</th>\n",
       "      <td>Spuyten Duyvil</td>\n",
       "      <td>5.80</td>\n",
       "    </tr>\n",
       "  </tbody>\n",
       "</table>\n",
       "</div>"
      ],
      "text/plain": [
       "     Neighborhood  Average Rating\n",
       "7        Woodlawn            8.10\n",
       "0       Bay Ridge            7.55\n",
       "1  Brighton Beach            7.40\n",
       "2       Concourse            7.00\n",
       "3        Flatbush            6.95\n",
       "4     Parkchester            5.90\n",
       "6       Unionport            5.90\n",
       "5  Spuyten Duyvil            5.80"
      ]
     },
     "execution_count": 78,
     "metadata": {},
     "output_type": "execute_result"
    }
   ],
   "source": [
    "ny_neighborhood_stats.sort_values(['Average Rating'],ascending=False).head(10)"
   ]
  },
  {
   "cell_type": "code",
   "execution_count": 79,
   "metadata": {},
   "outputs": [],
   "source": [
    "ny_borough_stats=indian_rest_stats_ny.groupby('Borough',as_index=False).mean()[['Borough','Rating']]\n",
    "ny_borough_stats.columns=['Borough','Average Rating']"
   ]
  },
  {
   "cell_type": "code",
   "execution_count": 80,
   "metadata": {},
   "outputs": [
    {
     "data": {
      "text/html": [
       "<div>\n",
       "<style scoped>\n",
       "    .dataframe tbody tr th:only-of-type {\n",
       "        vertical-align: middle;\n",
       "    }\n",
       "\n",
       "    .dataframe tbody tr th {\n",
       "        vertical-align: top;\n",
       "    }\n",
       "\n",
       "    .dataframe thead th {\n",
       "        text-align: right;\n",
       "    }\n",
       "</style>\n",
       "<table border=\"1\" class=\"dataframe\">\n",
       "  <thead>\n",
       "    <tr style=\"text-align: right;\">\n",
       "      <th></th>\n",
       "      <th>Borough</th>\n",
       "      <th>Average Rating</th>\n",
       "    </tr>\n",
       "  </thead>\n",
       "  <tbody>\n",
       "    <tr>\n",
       "      <th>1</th>\n",
       "      <td>Brooklyn</td>\n",
       "      <td>7.28</td>\n",
       "    </tr>\n",
       "    <tr>\n",
       "      <th>0</th>\n",
       "      <td>Bronx</td>\n",
       "      <td>6.54</td>\n",
       "    </tr>\n",
       "  </tbody>\n",
       "</table>\n",
       "</div>"
      ],
      "text/plain": [
       "    Borough  Average Rating\n",
       "1  Brooklyn            7.28\n",
       "0     Bronx            6.54"
      ]
     },
     "execution_count": 80,
     "metadata": {},
     "output_type": "execute_result"
    }
   ],
   "source": [
    "ny_borough_stats.sort_values(['Average Rating'],ascending=False).head()"
   ]
  },
  {
   "cell_type": "code",
   "execution_count": 81,
   "metadata": {},
   "outputs": [
    {
     "data": {
      "image/png": "[encoded data removed]",
      "text/plain": [
       "<Figure size 900x500 with 1 Axes>"
      ]
     },
     "metadata": {
      "needs_background": "light"
     },
     "output_type": "display_data"
    }
   ],
   "source": [
    "plt.figure(figsize=(9,5), dpi = 100)\n",
    "# title\n",
    "plt.title('Average rating of Indian Resturants for each Borough')\n",
    "#On x-axis\n",
    "plt.xlabel('Borough', fontsize = 15)\n",
    "#On y-axis\n",
    "plt.ylabel('Average Rating', fontsize=15)\n",
    "#giving a bar plot\n",
    "indian_rest_stats_ny.groupby('Borough').mean()['Rating'].plot(kind='bar')\n",
    "#legend\n",
    "plt.legend()\n",
    "#displays the plot\n",
    "plt.show()"
   ]
  },
  {
   "cell_type": "code",
   "execution_count": 103,
   "metadata": {},
   "outputs": [],
   "source": [
    "ny_neighborhood_stats=ny_neighborhood_stats[ny_neighborhood_stats['Average Rating']>=9.0]"
   ]
  },
  {
   "cell_type": "code",
   "execution_count": 104,
   "metadata": {},
   "outputs": [
    {
     "data": {
      "text/html": [
       "<div>\n",
       "<style scoped>\n",
       "    .dataframe tbody tr th:only-of-type {\n",
       "        vertical-align: middle;\n",
       "    }\n",
       "\n",
       "    .dataframe tbody tr th {\n",
       "        vertical-align: top;\n",
       "    }\n",
       "\n",
       "    .dataframe thead th {\n",
       "        text-align: right;\n",
       "    }\n",
       "</style>\n",
       "<table border=\"1\" class=\"dataframe\">\n",
       "  <thead>\n",
       "    <tr style=\"text-align: right;\">\n",
       "      <th></th>\n",
       "      <th>Average Rating</th>\n",
       "      <th>Borough_x</th>\n",
       "      <th>Latitude_x</th>\n",
       "      <th>Longitude_x</th>\n",
       "      <th>Label</th>\n",
       "      <th>Borough_y</th>\n",
       "      <th>Neighborhood</th>\n",
       "      <th>Latitude_y</th>\n",
       "      <th>Longitude_y</th>\n",
       "    </tr>\n",
       "  </thead>\n",
       "  <tbody>\n",
       "  </tbody>\n",
       "</table>\n",
       "</div>"
      ],
      "text/plain": [
       "Empty DataFrame\n",
       "Columns: [Average Rating, Borough_x, Latitude_x, Longitude_x, Label, Borough_y, Neighborhood, Latitude_y, Longitude_y]\n",
       "Index: []"
      ]
     },
     "execution_count": 104,
     "metadata": {},
     "output_type": "execute_result"
    }
   ],
   "source": [
    "ny_neighborhood_stats"
   ]
  },
  {
   "cell_type": "code",
   "execution_count": 105,
   "metadata": {},
   "outputs": [],
   "source": [
    "ny_neighborhood_stats=pd.merge(ny_neighborhood_stats,ny_data, on='Neighborhood')"
   ]
  },
  {
   "cell_type": "code",
   "execution_count": 106,
   "metadata": {},
   "outputs": [],
   "source": [
    "ny_neighborhood_stats=ny_neighborhood_stats[['Borough','Neighborhood','Latitude','Longitude','Average Rating']]"
   ]
  },
  {
   "cell_type": "code",
   "execution_count": 107,
   "metadata": {},
   "outputs": [
    {
     "data": {
      "text/html": [
       "<div>\n",
       "<style scoped>\n",
       "    .dataframe tbody tr th:only-of-type {\n",
       "        vertical-align: middle;\n",
       "    }\n",
       "\n",
       "    .dataframe tbody tr th {\n",
       "        vertical-align: top;\n",
       "    }\n",
       "\n",
       "    .dataframe thead th {\n",
       "        text-align: right;\n",
       "    }\n",
       "</style>\n",
       "<table border=\"1\" class=\"dataframe\">\n",
       "  <thead>\n",
       "    <tr style=\"text-align: right;\">\n",
       "      <th></th>\n",
       "      <th>Borough</th>\n",
       "      <th>Neighborhood</th>\n",
       "      <th>Latitude</th>\n",
       "      <th>Longitude</th>\n",
       "      <th>Average Rating</th>\n",
       "    </tr>\n",
       "  </thead>\n",
       "  <tbody>\n",
       "  </tbody>\n",
       "</table>\n",
       "</div>"
      ],
      "text/plain": [
       "Empty DataFrame\n",
       "Columns: [Borough, Neighborhood, Latitude, Longitude, Average Rating]\n",
       "Index: []"
      ]
     },
     "execution_count": 107,
     "metadata": {},
     "output_type": "execute_result"
    }
   ],
   "source": [
    "ny_neighborhood_stats"
   ]
  },
  {
   "cell_type": "code",
   "execution_count": 87,
   "metadata": {},
   "outputs": [],
   "source": [
    "ny_map = folium.Map(location=geo_location('New York'), zoom_start=12)"
   ]
  },
  {
   "cell_type": "code",
   "execution_count": 88,
   "metadata": {},
   "outputs": [],
   "source": [
    "# instantiate a feature group for the incidents in the dataframe\n",
    "incidents = folium.map.FeatureGroup()\n",
    "\n",
    "# loop through the neighborhood and add each to the feature group\n",
    "for lat, lng, in ny_neighborhood_stats[['Latitude','Longitude']].values:\n",
    "    incidents.add_child(\n",
    "        folium.CircleMarker(\n",
    "            [lat, lng],\n",
    "            radius=10, # define how big you want the circle markers to be\n",
    "            color='yellow',\n",
    "            fill=True,\n",
    "            fill_color='blue',\n",
    "            fill_opacity=0.6\n",
    "        )\n",
    "    )"
   ]
  },
  {
   "cell_type": "code",
   "execution_count": 89,
   "metadata": {},
   "outputs": [],
   "source": [
    "ny_neighborhood_stats['Label']=ny_neighborhood_stats['Neighborhood']+', '+ny_neighborhood_stats['Borough']+'('+ny_neighborhood_stats['Average Rating'].map(str)+')'"
   ]
  },
  {
   "cell_type": "code",
   "execution_count": 90,
   "metadata": {},
   "outputs": [
    {
     "data": {
      "text/html": [
       "<div style=\"width:100%;\"><div style=\"position:relative;width:100%;height:0;padding-bottom:60%;\"><span style=\"color:#565656\">Make this Notebook Trusted to load map: File -> Trust Notebook</span><iframe src=\"about:blank\" style=\"position:absolute;width:100%;height:100%;left:0;top:0;border:none !important;\" data-html=PCFET0NUWVBFIGh0bWw+CjxoZWFkPiAgICAKICAgIDxtZXRhIGh0dHAtZXF1aXY9ImNvbnRlbnQtdHlwZSIgY29udGVudD0idGV4dC9odG1sOyBjaGFyc2V0PVVURi04IiAvPgogICAgCiAgICAgICAgPHNjcmlwdD4KICAgICAgICAgICAgTF9OT19UT1VDSCA9IGZhbHNlOwogICAgICAgICAgICBMX0RJU0FCTEVfM0QgPSBmYWxzZTsKICAgICAgICA8L3NjcmlwdD4KICAgIAogICAgPHNjcmlwdCBzcmM9Imh0dHBzOi8vY2RuLmpzZGVsaXZyLm5ldC9ucG0vbGVhZmxldEAxLjYuMC9kaXN0L2xlYWZsZXQuanMiPjwvc2NyaXB0PgogICAgPHNjcmlwdCBzcmM9Imh0dHBzOi8vY29kZS5qcXVlcnkuY29tL2pxdWVyeS0xLjEyLjQubWluLmpzIj48L3NjcmlwdD4KICAgIDxzY3JpcHQgc3JjPSJodHRwczovL21heGNkbi5ib290c3RyYXBjZG4uY29tL2Jvb3RzdHJhcC8zLjIuMC9qcy9ib290c3RyYXAubWluLmpzIj48L3NjcmlwdD4KICAgIDxzY3JpcHQgc3JjPSJodHRwczovL2NkbmpzLmNsb3VkZmxhcmUuY29tL2FqYXgvbGlicy9MZWFmbGV0LmF3ZXNvbWUtbWFya2Vycy8yLjAuMi9sZWFmbGV0LmF3ZXNvbWUtbWFya2Vycy5qcyI+PC9zY3JpcHQ+CiAgICA8bGluayByZWw9InN0eWxlc2hlZXQiIGhyZWY9Imh0dHBzOi8vY2RuLmpzZGVsaXZyLm5ldC9ucG0vbGVhZmxldEAxLjYuMC9kaXN0L2xlYWZsZXQuY3NzIi8+CiAgICA8bGluayByZWw9InN0eWxlc2hlZXQiIGhyZWY9Imh0dHBzOi8vbWF4Y2RuLmJvb3RzdHJhcGNkbi5jb20vYm9vdHN0cmFwLzMuMi4wL2Nzcy9ib290c3RyYXAubWluLmNzcyIvPgogICAgPGxpbmsgcmVsPSJzdHlsZXNoZWV0IiBocmVmPSJodHRwczovL21heGNkbi5ib290c3RyYXBjZG4uY29tL2Jvb3RzdHJhcC8zLjIuMC9jc3MvYm9vdHN0cmFwLXRoZW1lLm1pbi5jc3MiLz4KICAgIDxsaW5rIHJlbD0ic3R5bGVzaGVldCIgaHJlZj0iaHR0cHM6Ly9tYXhjZG4uYm9vdHN0cmFwY2RuLmNvbS9mb250LWF3ZXNvbWUvNC42LjMvY3NzL2ZvbnQtYXdlc29tZS5taW4uY3NzIi8+CiAgICA8bGluayByZWw9InN0eWxlc2hlZXQiIGhyZWY9Imh0dHBzOi8vY2RuanMuY2xvdWRmbGFyZS5jb20vYWpheC9saWJzL0xlYWZsZXQuYXdlc29tZS1tYXJrZXJzLzIuMC4yL2xlYWZsZXQuYXdlc29tZS1tYXJrZXJzLmNzcyIvPgogICAgPGxpbmsgcmVsPSJzdHlsZXNoZWV0IiBocmVmPSJodHRwczovL3Jhd2Nkbi5naXRoYWNrLmNvbS9weXRob24tdmlzdWFsaXphdGlvbi9mb2xpdW0vbWFzdGVyL2ZvbGl1bS90ZW1wbGF0ZXMvbGVhZmxldC5hd2Vzb21lLnJvdGF0ZS5jc3MiLz4KICAgIDxzdHlsZT5odG1sLCBib2R5IHt3aWR0aDogMTAwJTtoZWlnaHQ6IDEwMCU7bWFyZ2luOiAwO3BhZGRpbmc6IDA7fTwvc3R5bGU+CiAgICA8c3R5bGU+I21hcCB7cG9zaXRpb246YWJzb2x1dGU7dG9wOjA7Ym90dG9tOjA7cmlnaHQ6MDtsZWZ0OjA7fTwvc3R5bGU+CiAgICAKICAgICAgICAgICAgPG1ldGEgbmFtZT0idmlld3BvcnQiIGNvbnRlbnQ9IndpZHRoPWRldmljZS13aWR0aCwKICAgICAgICAgICAgICAgIGluaXRpYWwtc2NhbGU9MS4wLCBtYXhpbXVtLXNjYWxlPTEuMCwgdXNlci1zY2FsYWJsZT1ubyIgLz4KICAgICAgICAgICAgPHN0eWxlPgogICAgICAgICAgICAgICAgI21hcF84OTY4NzBhYmE4YTU0MGMwYjczZjJlMDMxMzIwMzg2YSB7CiAgICAgICAgICAgICAgICAgICAgcG9zaXRpb246IHJlbGF0aXZlOwogICAgICAgICAgICAgICAgICAgIHdpZHRoOiAxMDAuMCU7CiAgICAgICAgICAgICAgICAgICAgaGVpZ2h0OiAxMDAuMCU7CiAgICAgICAgICAgICAgICAgICAgbGVmdDogMC4wJTsKICAgICAgICAgICAgICAgICAgICB0b3A6IDAuMCU7CiAgICAgICAgICAgICAgICB9CiAgICAgICAgICAgIDwvc3R5bGU+CiAgICAgICAgCjwvaGVhZD4KPGJvZHk+ICAgIAogICAgCiAgICAgICAgICAgIDxkaXYgY2xhc3M9ImZvbGl1bS1tYXAiIGlkPSJtYXBfODk2ODcwYWJhOGE1NDBjMGI3M2YyZTAzMTMyMDM4NmEiID48L2Rpdj4KICAgICAgICAKPC9ib2R5Pgo8c2NyaXB0PiAgICAKICAgIAogICAgICAgICAgICB2YXIgbWFwXzg5Njg3MGFiYThhNTQwYzBiNzNmMmUwMzEzMjAzODZhID0gTC5tYXAoCiAgICAgICAgICAgICAgICAibWFwXzg5Njg3MGFiYThhNTQwYzBiNzNmMmUwMzEzMjAzODZhIiwKICAgICAgICAgICAgICAgIHsKICAgICAgICAgICAgICAgICAgICBjZW50ZXI6IFs0MC43MTI3MjgxLCAtNzQuMDA2MDE1Ml0sCiAgICAgICAgICAgICAgICAgICAgY3JzOiBMLkNSUy5FUFNHMzg1NywKICAgICAgICAgICAgICAgICAgICB6b29tOiAxMiwKICAgICAgICAgICAgICAgICAgICB6b29tQ29udHJvbDogdHJ1ZSwKICAgICAgICAgICAgICAgICAgICBwcmVmZXJDYW52YXM6IGZhbHNlLAogICAgICAgICAgICAgICAgfQogICAgICAgICAgICApOwoKICAgICAgICAgICAgCgogICAgICAgIAogICAgCiAgICAgICAgICAgIHZhciB0aWxlX2xheWVyXzcwYjg0NjJhYzA4NDRhMGU4NWJiYzQzZDg1ZjRlYTdmID0gTC50aWxlTGF5ZXIoCiAgICAgICAgICAgICAgICAiaHR0cHM6Ly97c30udGlsZS5vcGVuc3RyZWV0bWFwLm9yZy97en0ve3h9L3t5fS5wbmciLAogICAgICAgICAgICAgICAgeyJhdHRyaWJ1dGlvbiI6ICJEYXRhIGJ5IFx1MDAyNmNvcHk7IFx1MDAzY2EgaHJlZj1cImh0dHA6Ly9vcGVuc3RyZWV0bWFwLm9yZ1wiXHUwMDNlT3BlblN0cmVldE1hcFx1MDAzYy9hXHUwMDNlLCB1bmRlciBcdTAwM2NhIGhyZWY9XCJodHRwOi8vd3d3Lm9wZW5zdHJlZXRtYXAub3JnL2NvcHlyaWdodFwiXHUwMDNlT0RiTFx1MDAzYy9hXHUwMDNlLiIsICJkZXRlY3RSZXRpbmEiOiBmYWxzZSwgIm1heE5hdGl2ZVpvb20iOiAxOCwgIm1heFpvb20iOiAxOCwgIm1pblpvb20iOiAwLCAibm9XcmFwIjogZmFsc2UsICJvcGFjaXR5IjogMSwgInN1YmRvbWFpbnMiOiAiYWJjIiwgInRtcyI6IGZhbHNlfQogICAgICAgICAgICApLmFkZFRvKG1hcF84OTY4NzBhYmE4YTU0MGMwYjczZjJlMDMxMzIwMzg2YSk7CiAgICAgICAgCiAgICAKICAgICAgICAgICAgdmFyIGZlYXR1cmVfZ3JvdXBfMjc5ZDM2MzMyNTc4NDVlNTllYzNkZjljYzBhNmRkMzQgPSBMLmZlYXR1cmVHcm91cCgKICAgICAgICAgICAgICAgIHt9CiAgICAgICAgICAgICkuYWRkVG8obWFwXzg5Njg3MGFiYThhNTQwYzBiNzNmMmUwMzEzMjAzODZhKTsKICAgICAgICAKPC9zY3JpcHQ+ onload=\"this.contentDocument.open();this.contentDocument.write(atob(this.getAttribute('data-html')));this.contentDocument.close();\" allowfullscreen webkitallowfullscreen mozallowfullscreen></iframe></div></div>"
      ],
      "text/plain": [
       "<folium.folium.Map at 0x132a44d34c8>"
      ]
     },
     "execution_count": 90,
     "metadata": {},
     "output_type": "execute_result"
    }
   ],
   "source": [
    "# add pop-up text to each marker on the map\n",
    "for lat, lng, label in ny_neighborhood_stats[['Latitude','Longitude','Label']].values:\n",
    "    folium.Marker([lat, lng], popup=label).add_to(ny_map)        \n",
    "# add incidents to map\n",
    "ny_map.add_child(incidents)"
   ]
  },
  {
   "cell_type": "code",
   "execution_count": 91,
   "metadata": {},
   "outputs": [
    {
     "name": "stderr",
     "output_type": "stream",
     "text": [
      "C:\\Users\\Mohsin Ali\\anaconda3\\lib\\site-packages\\folium\\folium.py:415: FutureWarning: The choropleth  method has been deprecated. Instead use the new Choropleth class, which has the same arguments. See the example notebook 'GeoJSON_and_choropleth' for how to do this.\n",
      "  FutureWarning\n"
     ]
    },
    {
     "ename": "FileNotFoundError",
     "evalue": "[Errno 2] No such file or directory: 'Borough_Boundaries.geojson'",
     "output_type": "error",
     "traceback": [
      "\u001b[1;31m---------------------------------------------------------------------------\u001b[0m",
      "\u001b[1;31mFileNotFoundError\u001b[0m                         Traceback (most recent call last)",
      "\u001b[1;32m<ipython-input-91-ca460e918fb9>\u001b[0m in \u001b[0;36m<module>\u001b[1;34m\u001b[0m\n\u001b[0;32m     10\u001b[0m     \u001b[0mfill_opacity\u001b[0m\u001b[1;33m=\u001b[0m\u001b[1;36m0.7\u001b[0m\u001b[1;33m,\u001b[0m\u001b[1;33m\u001b[0m\u001b[1;33m\u001b[0m\u001b[0m\n\u001b[0;32m     11\u001b[0m     \u001b[0mline_opacity\u001b[0m\u001b[1;33m=\u001b[0m\u001b[1;36m0.2\u001b[0m\u001b[1;33m,\u001b[0m\u001b[1;33m\u001b[0m\u001b[1;33m\u001b[0m\u001b[0m\n\u001b[1;32m---> 12\u001b[1;33m     \u001b[0mlegend_name\u001b[0m\u001b[1;33m=\u001b[0m\u001b[1;34m'Average Rating'\u001b[0m\u001b[1;33m\u001b[0m\u001b[1;33m\u001b[0m\u001b[0m\n\u001b[0m\u001b[0;32m     13\u001b[0m )\n\u001b[0;32m     14\u001b[0m \u001b[1;33m\u001b[0m\u001b[0m\n",
      "\u001b[1;32m~\\anaconda3\\lib\\site-packages\\folium\\folium.py\u001b[0m in \u001b[0;36mchoropleth\u001b[1;34m(self, *args, **kwargs)\u001b[0m\n\u001b[0;32m    416\u001b[0m         )\n\u001b[0;32m    417\u001b[0m         \u001b[1;32mfrom\u001b[0m \u001b[0mfolium\u001b[0m\u001b[1;33m.\u001b[0m\u001b[0mfeatures\u001b[0m \u001b[1;32mimport\u001b[0m \u001b[0mChoropleth\u001b[0m\u001b[1;33m\u001b[0m\u001b[1;33m\u001b[0m\u001b[0m\n\u001b[1;32m--> 418\u001b[1;33m         \u001b[0mself\u001b[0m\u001b[1;33m.\u001b[0m\u001b[0madd_child\u001b[0m\u001b[1;33m(\u001b[0m\u001b[0mChoropleth\u001b[0m\u001b[1;33m(\u001b[0m\u001b[1;33m*\u001b[0m\u001b[0margs\u001b[0m\u001b[1;33m,\u001b[0m \u001b[1;33m**\u001b[0m\u001b[0mkwargs\u001b[0m\u001b[1;33m)\u001b[0m\u001b[1;33m)\u001b[0m\u001b[1;33m\u001b[0m\u001b[1;33m\u001b[0m\u001b[0m\n\u001b[0m\u001b[0;32m    419\u001b[0m \u001b[1;33m\u001b[0m\u001b[0m\n\u001b[0;32m    420\u001b[0m     \u001b[1;32mdef\u001b[0m \u001b[0mkeep_in_front\u001b[0m\u001b[1;33m(\u001b[0m\u001b[0mself\u001b[0m\u001b[1;33m,\u001b[0m \u001b[1;33m*\u001b[0m\u001b[0margs\u001b[0m\u001b[1;33m)\u001b[0m\u001b[1;33m:\u001b[0m\u001b[1;33m\u001b[0m\u001b[1;33m\u001b[0m\u001b[0m\n",
      "\u001b[1;32m~\\anaconda3\\lib\\site-packages\\folium\\features.py\u001b[0m in \u001b[0;36m__init__\u001b[1;34m(self, geo_data, data, columns, key_on, bins, fill_color, nan_fill_color, fill_opacity, nan_fill_opacity, line_color, line_weight, line_opacity, name, legend_name, overlay, control, show, topojson, smooth_factor, highlight, **kwargs)\u001b[0m\n\u001b[0;32m   1249\u001b[0m                 \u001b[0mstyle_function\u001b[0m\u001b[1;33m=\u001b[0m\u001b[0mstyle_function\u001b[0m\u001b[1;33m,\u001b[0m\u001b[1;33m\u001b[0m\u001b[1;33m\u001b[0m\u001b[0m\n\u001b[0;32m   1250\u001b[0m                 \u001b[0msmooth_factor\u001b[0m\u001b[1;33m=\u001b[0m\u001b[0msmooth_factor\u001b[0m\u001b[1;33m,\u001b[0m\u001b[1;33m\u001b[0m\u001b[1;33m\u001b[0m\u001b[0m\n\u001b[1;32m-> 1251\u001b[1;33m                 highlight_function=highlight_function if highlight else None)\n\u001b[0m\u001b[0;32m   1252\u001b[0m \u001b[1;33m\u001b[0m\u001b[0m\n\u001b[0;32m   1253\u001b[0m         \u001b[0mself\u001b[0m\u001b[1;33m.\u001b[0m\u001b[0madd_child\u001b[0m\u001b[1;33m(\u001b[0m\u001b[0mself\u001b[0m\u001b[1;33m.\u001b[0m\u001b[0mgeojson\u001b[0m\u001b[1;33m)\u001b[0m\u001b[1;33m\u001b[0m\u001b[1;33m\u001b[0m\u001b[0m\n",
      "\u001b[1;32m~\\anaconda3\\lib\\site-packages\\folium\\features.py\u001b[0m in \u001b[0;36m__init__\u001b[1;34m(self, data, style_function, highlight_function, name, overlay, control, show, smooth_factor, tooltip, embed, popup)\u001b[0m\n\u001b[0;32m    451\u001b[0m         \u001b[0mself\u001b[0m\u001b[1;33m.\u001b[0m\u001b[0mhighlight\u001b[0m \u001b[1;33m=\u001b[0m \u001b[0mhighlight_function\u001b[0m \u001b[1;32mis\u001b[0m \u001b[1;32mnot\u001b[0m \u001b[1;32mNone\u001b[0m\u001b[1;33m\u001b[0m\u001b[1;33m\u001b[0m\u001b[0m\n\u001b[0;32m    452\u001b[0m \u001b[1;33m\u001b[0m\u001b[0m\n\u001b[1;32m--> 453\u001b[1;33m         \u001b[0mself\u001b[0m\u001b[1;33m.\u001b[0m\u001b[0mdata\u001b[0m \u001b[1;33m=\u001b[0m \u001b[0mself\u001b[0m\u001b[1;33m.\u001b[0m\u001b[0mprocess_data\u001b[0m\u001b[1;33m(\u001b[0m\u001b[0mdata\u001b[0m\u001b[1;33m)\u001b[0m\u001b[1;33m\u001b[0m\u001b[1;33m\u001b[0m\u001b[0m\n\u001b[0m\u001b[0;32m    454\u001b[0m \u001b[1;33m\u001b[0m\u001b[0m\n\u001b[0;32m    455\u001b[0m         \u001b[1;32mif\u001b[0m \u001b[0mself\u001b[0m\u001b[1;33m.\u001b[0m\u001b[0mstyle\u001b[0m \u001b[1;32mor\u001b[0m \u001b[0mself\u001b[0m\u001b[1;33m.\u001b[0m\u001b[0mhighlight\u001b[0m\u001b[1;33m:\u001b[0m\u001b[1;33m\u001b[0m\u001b[1;33m\u001b[0m\u001b[0m\n",
      "\u001b[1;32m~\\anaconda3\\lib\\site-packages\\folium\\features.py\u001b[0m in \u001b[0;36mprocess_data\u001b[1;34m(self, data)\u001b[0m\n\u001b[0;32m    488\u001b[0m                 \u001b[1;32mif\u001b[0m \u001b[1;32mnot\u001b[0m \u001b[0mself\u001b[0m\u001b[1;33m.\u001b[0m\u001b[0membed\u001b[0m\u001b[1;33m:\u001b[0m\u001b[1;33m\u001b[0m\u001b[1;33m\u001b[0m\u001b[0m\n\u001b[0;32m    489\u001b[0m                     \u001b[0mself\u001b[0m\u001b[1;33m.\u001b[0m\u001b[0membed_link\u001b[0m \u001b[1;33m=\u001b[0m \u001b[0mdata\u001b[0m\u001b[1;33m\u001b[0m\u001b[1;33m\u001b[0m\u001b[0m\n\u001b[1;32m--> 490\u001b[1;33m                 \u001b[1;32mwith\u001b[0m \u001b[0mopen\u001b[0m\u001b[1;33m(\u001b[0m\u001b[0mdata\u001b[0m\u001b[1;33m)\u001b[0m \u001b[1;32mas\u001b[0m \u001b[0mf\u001b[0m\u001b[1;33m:\u001b[0m\u001b[1;33m\u001b[0m\u001b[1;33m\u001b[0m\u001b[0m\n\u001b[0m\u001b[0;32m    491\u001b[0m                     \u001b[1;32mreturn\u001b[0m \u001b[0mjson\u001b[0m\u001b[1;33m.\u001b[0m\u001b[0mloads\u001b[0m\u001b[1;33m(\u001b[0m\u001b[0mf\u001b[0m\u001b[1;33m.\u001b[0m\u001b[0mread\u001b[0m\u001b[1;33m(\u001b[0m\u001b[1;33m)\u001b[0m\u001b[1;33m)\u001b[0m\u001b[1;33m\u001b[0m\u001b[1;33m\u001b[0m\u001b[0m\n\u001b[0;32m    492\u001b[0m         \u001b[1;32melif\u001b[0m \u001b[0mhasattr\u001b[0m\u001b[1;33m(\u001b[0m\u001b[0mdata\u001b[0m\u001b[1;33m,\u001b[0m \u001b[1;34m'__geo_interface__'\u001b[0m\u001b[1;33m)\u001b[0m\u001b[1;33m:\u001b[0m\u001b[1;33m\u001b[0m\u001b[1;33m\u001b[0m\u001b[0m\n",
      "\u001b[1;31mFileNotFoundError\u001b[0m: [Errno 2] No such file or directory: 'Borough_Boundaries.geojson'"
     ]
    }
   ],
   "source": [
    "ny_map = folium.Map(location=geo_location('New York'), zoom_start=12)\n",
    "ny_geo = r'Borough_Boundaries.geojson'\n",
    "\n",
    "map = ny_map.choropleth(\n",
    "    geo_data=ny_geo,\n",
    "    data=ny_borough_stats,\n",
    "    columns=['Borough', 'Average Rating'],\n",
    "    key_on='feature.properties.boro_name',\n",
    "    fill_color='YlOrRd', \n",
    "    fill_opacity=0.7, \n",
    "    line_opacity=0.2,\n",
    "    legend_name='Average Rating'\n",
    ")\n",
    "\n",
    "# display map\n",
    "# as this is huge map data , we will save it to a file\n",
    "ny_map.save('borough_rating.html')"
   ]
  },
  {
   "cell_type": "code",
   "execution_count": null,
   "metadata": {},
   "outputs": [],
   "source": []
  }
 ],
 "metadata": {
  "kernelspec": {
   "display_name": "Python 3",
   "language": "python",
   "name": "python3"
  },
  "language_info": {
   "codemirror_mode": {
    "name": "ipython",
    "version": 3
   },
   "file_extension": ".py",
   "mimetype": "text/x-python",
   "name": "python",
   "nbconvert_exporter": "python",
   "pygments_lexer": "ipython3",
   "version": "3.7.6"
  }
 },
 "nbformat": 4,
 "nbformat_minor": 4
}
